{
 "cells": [
  {
   "cell_type": "markdown",
   "id": "93873ce8",
   "metadata": {},
   "source": [
    "## Obtención geolocalización de las ciudades"
   ]
  },
  {
   "cell_type": "markdown",
   "id": "152ecd6d",
   "metadata": {},
   "source": [
    "🗺🌏 A continuación, obtendremos la geolocalización de cada una de las ciudades mediante geopy."
   ]
  },
  {
   "cell_type": "markdown",
   "id": "5b9529ca",
   "metadata": {},
   "source": [
    "❕ El objetivo principal es lograr extraer la latitud y longitud de cada ciudad. "
   ]
  },
  {
   "cell_type": "code",
   "execution_count": 3,
   "id": "5e013c78",
   "metadata": {},
   "outputs": [],
   "source": [
    "import pandas as pd\n",
    "from geopy.geocoders import Nominatim\n",
    "\n",
    "import sys\n",
    "sys.path.append('../')\n",
    "import src.funcioneslocalizacion as fl\n",
    "\n",
    "pd.options.display.max_columns = None"
   ]
  },
  {
   "cell_type": "code",
   "execution_count": 4,
   "id": "b15bbd47",
   "metadata": {},
   "outputs": [
    {
     "data": {
      "text/html": [
       "<div>\n",
       "<style scoped>\n",
       "    .dataframe tbody tr th:only-of-type {\n",
       "        vertical-align: middle;\n",
       "    }\n",
       "\n",
       "    .dataframe tbody tr th {\n",
       "        vertical-align: top;\n",
       "    }\n",
       "\n",
       "    .dataframe thead th {\n",
       "        text-align: right;\n",
       "    }\n",
       "</style>\n",
       "<table border=\"1\" class=\"dataframe\">\n",
       "  <thead>\n",
       "    <tr style=\"text-align: right;\">\n",
       "      <th></th>\n",
       "      <th>City</th>\n",
       "      <th>Rank</th>\n",
       "      <th>Sunshine hours(City)</th>\n",
       "      <th>Cost of a bottle of water(City)</th>\n",
       "      <th>Obesity levels(Country)</th>\n",
       "      <th>Life expectancy(years) (Country)</th>\n",
       "      <th>Pollution(Index score) (City)</th>\n",
       "      <th>Annual avg. hours worked</th>\n",
       "      <th>Happiness levels(Country)</th>\n",
       "      <th>Outdoor activities(City)</th>\n",
       "      <th>Number of take out places(City)</th>\n",
       "      <th>Cost of a monthly gym membership(City)</th>\n",
       "    </tr>\n",
       "  </thead>\n",
       "  <tbody>\n",
       "    <tr>\n",
       "      <th>0</th>\n",
       "      <td>Amsterdam</td>\n",
       "      <td>1</td>\n",
       "      <td>1858.0</td>\n",
       "      <td>1.92</td>\n",
       "      <td>20.4</td>\n",
       "      <td>81.2</td>\n",
       "      <td>31.0</td>\n",
       "      <td>1434.0</td>\n",
       "      <td>7.44</td>\n",
       "      <td>422</td>\n",
       "      <td>1048</td>\n",
       "      <td>34.90</td>\n",
       "    </tr>\n",
       "    <tr>\n",
       "      <th>1</th>\n",
       "      <td>Sydney</td>\n",
       "      <td>2</td>\n",
       "      <td>2636.0</td>\n",
       "      <td>1.48</td>\n",
       "      <td>29.0</td>\n",
       "      <td>82.1</td>\n",
       "      <td>27.0</td>\n",
       "      <td>1712.0</td>\n",
       "      <td>7.22</td>\n",
       "      <td>406</td>\n",
       "      <td>1103</td>\n",
       "      <td>41.66</td>\n",
       "    </tr>\n",
       "  </tbody>\n",
       "</table>\n",
       "</div>"
      ],
      "text/plain": [
       "        City  Rank  Sunshine hours(City)  Cost of a bottle of water(City)  \\\n",
       "0  Amsterdam     1                1858.0                             1.92   \n",
       "1     Sydney     2                2636.0                             1.48   \n",
       "\n",
       "   Obesity levels(Country)  Life expectancy(years) (Country)  \\\n",
       "0                     20.4                              81.2   \n",
       "1                     29.0                              82.1   \n",
       "\n",
       "   Pollution(Index score) (City)  Annual avg. hours worked  \\\n",
       "0                           31.0                    1434.0   \n",
       "1                           27.0                    1712.0   \n",
       "\n",
       "   Happiness levels(Country)  Outdoor activities(City)  \\\n",
       "0                       7.44                       422   \n",
       "1                       7.22                       406   \n",
       "\n",
       "   Number of take out places(City)  Cost of a monthly gym membership(City)  \n",
       "0                             1048                                   34.90  \n",
       "1                             1103                                   41.66  "
      ]
     },
     "execution_count": 4,
     "metadata": {},
     "output_type": "execute_result"
    }
   ],
   "source": [
    "calid_city = pd.read_csv('../data/ciudades.csv', index_col = 0)\n",
    "calid_city.head(2)"
   ]
  },
  {
   "cell_type": "markdown",
   "id": "c56499b3",
   "metadata": {},
   "source": [
    "1️⃣ Empleamos la función de geopy para obtener la latitud y longitud de cada ciudad."
   ]
  },
  {
   "cell_type": "code",
   "execution_count": 5,
   "id": "ef0b1797",
   "metadata": {},
   "outputs": [],
   "source": [
    "sc = fl.sacar_coord"
   ]
  },
  {
   "cell_type": "code",
   "execution_count": 6,
   "id": "068683ee",
   "metadata": {},
   "outputs": [],
   "source": [
    "geo_ciud = pd.DataFrame(calid_city['City'].apply(sc))"
   ]
  },
  {
   "cell_type": "code",
   "execution_count": 5,
   "id": "ee9a5a0b",
   "metadata": {},
   "outputs": [
    {
     "data": {
      "text/html": [
       "<div>\n",
       "<style scoped>\n",
       "    .dataframe tbody tr th:only-of-type {\n",
       "        vertical-align: middle;\n",
       "    }\n",
       "\n",
       "    .dataframe tbody tr th {\n",
       "        vertical-align: top;\n",
       "    }\n",
       "\n",
       "    .dataframe thead th {\n",
       "        text-align: right;\n",
       "    }\n",
       "</style>\n",
       "<table border=\"1\" class=\"dataframe\">\n",
       "  <thead>\n",
       "    <tr style=\"text-align: right;\">\n",
       "      <th></th>\n",
       "      <th>City</th>\n",
       "    </tr>\n",
       "  </thead>\n",
       "  <tbody>\n",
       "    <tr>\n",
       "      <th>0</th>\n",
       "      <td>(52.3727598, 4.8936041)</td>\n",
       "    </tr>\n",
       "    <tr>\n",
       "      <th>1</th>\n",
       "      <td>(-33.8698439, 151.2082848)</td>\n",
       "    </tr>\n",
       "  </tbody>\n",
       "</table>\n",
       "</div>"
      ],
      "text/plain": [
       "                         City\n",
       "0     (52.3727598, 4.8936041)\n",
       "1  (-33.8698439, 151.2082848)"
      ]
     },
     "execution_count": 5,
     "metadata": {},
     "output_type": "execute_result"
    }
   ],
   "source": [
    "geo_ciud.head(2)"
   ]
  },
  {
   "cell_type": "markdown",
   "id": "e8f8ebee",
   "metadata": {},
   "source": [
    "2️⃣ Una vez obtenida la geolocalización, separamos en dos columnas independientes la latitud y la longitud mediante sus respectivas funciones. Esto nos permitirá realizar posteriormente el mapa de manera más sencilla."
   ]
  },
  {
   "cell_type": "code",
   "execution_count": 7,
   "id": "535ccbbc",
   "metadata": {},
   "outputs": [],
   "source": [
    "lat = fl.sacar_latitud"
   ]
  },
  {
   "cell_type": "code",
   "execution_count": 8,
   "id": "012a21c8",
   "metadata": {},
   "outputs": [],
   "source": [
    "geo_ciud[\"latitud\"] = geo_ciud[\"City\"].apply(lat) "
   ]
  },
  {
   "cell_type": "code",
   "execution_count": 9,
   "id": "ddab4a3c",
   "metadata": {},
   "outputs": [],
   "source": [
    "long = fl.sacar_longitud"
   ]
  },
  {
   "cell_type": "code",
   "execution_count": 10,
   "id": "23208880",
   "metadata": {},
   "outputs": [],
   "source": [
    "geo_ciud[\"longitud\"] = geo_ciud[\"City\"].apply(long) "
   ]
  },
  {
   "cell_type": "markdown",
   "id": "99ea046b",
   "metadata": {},
   "source": [
    "3️⃣ De este modo, obtenemos un csv con las coordenadas de la ciudad y su latitud y longitud correspondientes."
   ]
  },
  {
   "cell_type": "code",
   "execution_count": 11,
   "id": "abd56d10",
   "metadata": {
    "scrolled": true
   },
   "outputs": [
    {
     "data": {
      "text/html": [
       "<div>\n",
       "<style scoped>\n",
       "    .dataframe tbody tr th:only-of-type {\n",
       "        vertical-align: middle;\n",
       "    }\n",
       "\n",
       "    .dataframe tbody tr th {\n",
       "        vertical-align: top;\n",
       "    }\n",
       "\n",
       "    .dataframe thead th {\n",
       "        text-align: right;\n",
       "    }\n",
       "</style>\n",
       "<table border=\"1\" class=\"dataframe\">\n",
       "  <thead>\n",
       "    <tr style=\"text-align: right;\">\n",
       "      <th></th>\n",
       "      <th>City</th>\n",
       "      <th>latitud</th>\n",
       "      <th>longitud</th>\n",
       "    </tr>\n",
       "  </thead>\n",
       "  <tbody>\n",
       "    <tr>\n",
       "      <th>0</th>\n",
       "      <td>(52.3727598, 4.8936041)</td>\n",
       "      <td>52.372760</td>\n",
       "      <td>4.893604</td>\n",
       "    </tr>\n",
       "    <tr>\n",
       "      <th>1</th>\n",
       "      <td>(-33.8698439, 151.2082848)</td>\n",
       "      <td>-33.869844</td>\n",
       "      <td>151.208285</td>\n",
       "    </tr>\n",
       "  </tbody>\n",
       "</table>\n",
       "</div>"
      ],
      "text/plain": [
       "                         City    latitud    longitud\n",
       "0     (52.3727598, 4.8936041)  52.372760    4.893604\n",
       "1  (-33.8698439, 151.2082848) -33.869844  151.208285"
      ]
     },
     "execution_count": 11,
     "metadata": {},
     "output_type": "execute_result"
    }
   ],
   "source": [
    "geo_ciud.head(2)"
   ]
  },
  {
   "cell_type": "markdown",
   "id": "03ba12d9",
   "metadata": {},
   "source": [
    "4️⃣ Por último, añadimos este csv al inicial limpio que hemos obtenido en el jupyter de limpieza csv, por lo que el resultado final será un csv con la información completa de las ciudades: características y geolocalización. "
   ]
  },
  {
   "cell_type": "code",
   "execution_count": 14,
   "id": "1755a3aa",
   "metadata": {},
   "outputs": [],
   "source": [
    "calid_city['Coordinates'] = geo_ciud['City']"
   ]
  },
  {
   "cell_type": "code",
   "execution_count": 15,
   "id": "706e61bc",
   "metadata": {},
   "outputs": [],
   "source": [
    "calid_city['Latitude'] = geo_ciud['latitud']"
   ]
  },
  {
   "cell_type": "code",
   "execution_count": 16,
   "id": "0e0f825e",
   "metadata": {},
   "outputs": [],
   "source": [
    "calid_city['Longitude'] = geo_ciud['longitud']"
   ]
  },
  {
   "cell_type": "code",
   "execution_count": 17,
   "id": "4aa37495",
   "metadata": {},
   "outputs": [
    {
     "data": {
      "text/html": [
       "<div>\n",
       "<style scoped>\n",
       "    .dataframe tbody tr th:only-of-type {\n",
       "        vertical-align: middle;\n",
       "    }\n",
       "\n",
       "    .dataframe tbody tr th {\n",
       "        vertical-align: top;\n",
       "    }\n",
       "\n",
       "    .dataframe thead th {\n",
       "        text-align: right;\n",
       "    }\n",
       "</style>\n",
       "<table border=\"1\" class=\"dataframe\">\n",
       "  <thead>\n",
       "    <tr style=\"text-align: right;\">\n",
       "      <th></th>\n",
       "      <th>City</th>\n",
       "      <th>Rank</th>\n",
       "      <th>Sunshine hours(City)</th>\n",
       "      <th>Cost of a bottle of water(City)</th>\n",
       "      <th>Obesity levels(Country)</th>\n",
       "      <th>Life expectancy(years) (Country)</th>\n",
       "      <th>Pollution(Index score) (City)</th>\n",
       "      <th>Annual avg. hours worked</th>\n",
       "      <th>Happiness levels(Country)</th>\n",
       "      <th>Outdoor activities(City)</th>\n",
       "      <th>Number of take out places(City)</th>\n",
       "      <th>Cost of a monthly gym membership(City)</th>\n",
       "      <th>Coordinates</th>\n",
       "      <th>Latitude</th>\n",
       "      <th>Longitude</th>\n",
       "    </tr>\n",
       "  </thead>\n",
       "  <tbody>\n",
       "    <tr>\n",
       "      <th>0</th>\n",
       "      <td>Amsterdam</td>\n",
       "      <td>1</td>\n",
       "      <td>1858.0</td>\n",
       "      <td>1.92</td>\n",
       "      <td>20.4</td>\n",
       "      <td>81.2</td>\n",
       "      <td>31.0</td>\n",
       "      <td>1434.0</td>\n",
       "      <td>7.44</td>\n",
       "      <td>422</td>\n",
       "      <td>1048</td>\n",
       "      <td>34.90</td>\n",
       "      <td>(52.3727598, 4.8936041)</td>\n",
       "      <td>52.372760</td>\n",
       "      <td>4.893604</td>\n",
       "    </tr>\n",
       "    <tr>\n",
       "      <th>1</th>\n",
       "      <td>Sydney</td>\n",
       "      <td>2</td>\n",
       "      <td>2636.0</td>\n",
       "      <td>1.48</td>\n",
       "      <td>29.0</td>\n",
       "      <td>82.1</td>\n",
       "      <td>27.0</td>\n",
       "      <td>1712.0</td>\n",
       "      <td>7.22</td>\n",
       "      <td>406</td>\n",
       "      <td>1103</td>\n",
       "      <td>41.66</td>\n",
       "      <td>(-33.8698439, 151.2082848)</td>\n",
       "      <td>-33.869844</td>\n",
       "      <td>151.208285</td>\n",
       "    </tr>\n",
       "  </tbody>\n",
       "</table>\n",
       "</div>"
      ],
      "text/plain": [
       "        City  Rank  Sunshine hours(City)  Cost of a bottle of water(City)  \\\n",
       "0  Amsterdam     1                1858.0                             1.92   \n",
       "1     Sydney     2                2636.0                             1.48   \n",
       "\n",
       "   Obesity levels(Country)  Life expectancy(years) (Country)  \\\n",
       "0                     20.4                              81.2   \n",
       "1                     29.0                              82.1   \n",
       "\n",
       "   Pollution(Index score) (City)  Annual avg. hours worked  \\\n",
       "0                           31.0                    1434.0   \n",
       "1                           27.0                    1712.0   \n",
       "\n",
       "   Happiness levels(Country)  Outdoor activities(City)  \\\n",
       "0                       7.44                       422   \n",
       "1                       7.22                       406   \n",
       "\n",
       "   Number of take out places(City)  Cost of a monthly gym membership(City)  \\\n",
       "0                             1048                                   34.90   \n",
       "1                             1103                                   41.66   \n",
       "\n",
       "                  Coordinates   Latitude   Longitude  \n",
       "0     (52.3727598, 4.8936041)  52.372760    4.893604  \n",
       "1  (-33.8698439, 151.2082848) -33.869844  151.208285  "
      ]
     },
     "execution_count": 17,
     "metadata": {},
     "output_type": "execute_result"
    }
   ],
   "source": [
    "calid_city.head(2)"
   ]
  },
  {
   "cell_type": "code",
   "execution_count": 18,
   "id": "5b3c417c",
   "metadata": {},
   "outputs": [],
   "source": [
    "calid_city.to_csv('../data/calidad_ciudades.csv')"
   ]
  },
  {
   "cell_type": "code",
   "execution_count": 19,
   "id": "5ce95040",
   "metadata": {},
   "outputs": [],
   "source": [
    "geo_ciud.to_csv('../data/coord_ciudades.csv')"
   ]
  }
 ],
 "metadata": {
  "kernelspec": {
   "display_name": "Python 3 (ipykernel)",
   "language": "python",
   "name": "python3"
  },
  "language_info": {
   "codemirror_mode": {
    "name": "ipython",
    "version": 3
   },
   "file_extension": ".py",
   "mimetype": "text/x-python",
   "name": "python",
   "nbconvert_exporter": "python",
   "pygments_lexer": "ipython3",
   "version": "3.9.5"
  }
 },
 "nbformat": 4,
 "nbformat_minor": 5
}
